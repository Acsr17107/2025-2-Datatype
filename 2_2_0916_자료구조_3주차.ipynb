{
  "nbformat": 4,
  "nbformat_minor": 0,
  "metadata": {
    "colab": {
      "provenance": [],
      "authorship_tag": "ABX9TyNix9Xjgd7NML0EpOcqGbM6",
      "include_colab_link": true
    },
    "kernelspec": {
      "name": "python3",
      "display_name": "Python 3"
    },
    "language_info": {
      "name": "python"
    }
  },
  "cells": [
    {
      "cell_type": "markdown",
      "metadata": {
        "id": "view-in-github",
        "colab_type": "text"
      },
      "source": [
        "<a href=\"https://colab.research.google.com/github/Acsr17107/2025-2-Datatype/blob/main/2_2_0916_%EC%9E%90%EB%A3%8C%EA%B5%AC%EC%A1%B0_3%EC%A3%BC%EC%B0%A8.ipynb\" target=\"_parent\"><img src=\"https://colab.research.google.com/assets/colab-badge.svg\" alt=\"Open In Colab\"/></a>"
      ]
    },
    {
      "cell_type": "markdown",
      "source": [
        "## 0916_자료구조_3주차"
      ],
      "metadata": {
        "id": "gsP-aT2hHGNB"
      }
    },
    {
      "cell_type": "markdown",
      "source": [
        "정수형  : int  \n",
        "실수형  : float  \n",
        "부울    : bool  \n",
        "문자열  : str  \n",
        "복소수  : complex  \n"
      ],
      "metadata": {
        "id": "r0vrn-hYHPhh"
      }
    },
    {
      "cell_type": "code",
      "execution_count": 4,
      "metadata": {
        "colab": {
          "base_uri": "https://localhost:8080/"
        },
        "id": "UVrEuCUuF_Mo",
        "outputId": "db5e74b3-bf51-4994-8e2f-220d3ee3a2b4"
      },
      "outputs": [
        {
          "output_type": "execute_result",
          "data": {
            "text/plain": [
              "int"
            ]
          },
          "metadata": {},
          "execution_count": 4
        }
      ],
      "source": [
        "a = 6789\n",
        "type(a)"
      ]
    },
    {
      "cell_type": "code",
      "source": [
        "b = str(a) # a를 문자열로\n",
        "type(b)"
      ],
      "metadata": {
        "colab": {
          "base_uri": "https://localhost:8080/"
        },
        "id": "qwkZpY3HIQzC",
        "outputId": "a6d4e902-e774-42b0-f7cf-2dfe955416c7"
      },
      "execution_count": 5,
      "outputs": [
        {
          "output_type": "execute_result",
          "data": {
            "text/plain": [
              "str"
            ]
          },
          "metadata": {},
          "execution_count": 5
        }
      ]
    },
    {
      "cell_type": "markdown",
      "source": [
        "리스트   : [1, 문자, (3, 4)]  \n",
        "튜플     : (1, 2, 3)  \n",
        "딕셔너리 : {a : 1, b : 2}   \n",
        "집합     : {1, 2, 3}  \n"
      ],
      "metadata": {
        "id": "a_gfh-oaH8H5"
      }
    },
    {
      "cell_type": "markdown",
      "source": [
        "### 변수"
      ],
      "metadata": {
        "id": "k_vGVLIfI5Dx"
      }
    },
    {
      "cell_type": "code",
      "source": [
        "_a = 123\n",
        "b = 3.14\n",
        "c = 'Miyako'\n",
        "d = True\n",
        "변수 = 1\n",
        "e = [1, 3, 5]"
      ],
      "metadata": {
        "id": "BIz1bgN5GJ9o"
      },
      "execution_count": 8,
      "outputs": []
    },
    {
      "cell_type": "markdown",
      "source": [
        "### 연산자\n",
        "\n",
        "더하기 : +    \n",
        "빼기   : -  \n",
        "나누기 : /\n",
        "몫     : //    \n",
        "나머지 : %  \n",
        "지수   : **    \n",
        "대입   : =    \n",
        "같다   : ==    \n",
        "and    : &&  \n",
        "or     : ||  "
      ],
      "metadata": {
        "id": "hN1Ud7KKLGo5"
      }
    },
    {
      "cell_type": "code",
      "source": [
        "student = ['유우카', '아오이', '히나']\n",
        "'유우카' not in student"
      ],
      "metadata": {
        "colab": {
          "base_uri": "https://localhost:8080/"
        },
        "id": "8vkCOP15GJ7p",
        "outputId": "6da60edb-8907-494f-eac9-9544487264bf"
      },
      "execution_count": 13,
      "outputs": [
        {
          "output_type": "execute_result",
          "data": {
            "text/plain": [
              "False"
            ]
          },
          "metadata": {},
          "execution_count": 13
        }
      ]
    },
    {
      "cell_type": "code",
      "source": [
        "print('sensei')"
      ],
      "metadata": {
        "colab": {
          "base_uri": "https://localhost:8080/"
        },
        "id": "CHQqcx4AGJ5g",
        "outputId": "fdea68ba-feb8-4743-effa-f2472f50b7c6"
      },
      "execution_count": 14,
      "outputs": [
        {
          "output_type": "stream",
          "name": "stdout",
          "text": [
            "sensei\n"
          ]
        }
      ]
    },
    {
      "cell_type": "markdown",
      "source": [
        "### input() 함수"
      ],
      "metadata": {
        "id": "v-hLbzf7K5zi"
      }
    },
    {
      "cell_type": "code",
      "source": [
        "# 이름 입력\n",
        "sname = input('이름 : ')\n",
        "\n",
        "# 취미 검색\n",
        "hobby = input('취미 : ')\n",
        "\n",
        "# 나이 검색\n",
        "age = int(input('나이 : '))\n",
        "\n",
        "print('학생의 이름은', sname, '이고,', hobby, '을 좋아하는 군요')\n",
        "print('이 학생은 10년 후에', age+10, '살 입니다')"
      ],
      "metadata": {
        "colab": {
          "base_uri": "https://localhost:8080/"
        },
        "id": "k1uoBukvGJ2i",
        "outputId": "c9b73ccf-26ec-44d7-a0fe-a9583b694c85"
      },
      "execution_count": 22,
      "outputs": [
        {
          "output_type": "stream",
          "name": "stdout",
          "text": [
            "이름 : 하야세 유우카\n",
            "취미 : 계산\n",
            "나이 : 16\n",
            "학생의 이름은 하야세 유우카 이고, 계산 을 좋아하는 군요\n",
            "이 학생은 10년 후에 26 살 입니다\n"
          ]
        }
      ]
    },
    {
      "cell_type": "code",
      "source": [
        "print('a \\n b ')  # 줄 바꿈\n",
        "print('c \\\"d\\\" ') # 큰 따옴표 \"\n",
        "print('e \\' f ')  # 작은 따옴표 '\n",
        "print('g \\\\ h ')  # 역슬래시 출력 \\\n",
        "print('i \\t j ')  # 탭만큼 띔"
      ],
      "metadata": {
        "colab": {
          "base_uri": "https://localhost:8080/"
        },
        "id": "YNBB6VHeLF3b",
        "outputId": "e601eca8-1bca-41db-def6-adbae1b7996b"
      },
      "execution_count": 32,
      "outputs": [
        {
          "output_type": "stream",
          "name": "stdout",
          "text": [
            "a \n",
            " b \n",
            "c \"d\" \n",
            "e ' f \n",
            "g \\ h \n",
            "i \t j \n"
          ]
        }
      ]
    },
    {
      "cell_type": "markdown",
      "source": [
        "### 조건문"
      ],
      "metadata": {
        "id": "v7SqiJYjN9La"
      }
    },
    {
      "cell_type": "code",
      "source": [
        "# 숫자 입력 받고 짝수면 짝수 출력 홀수면 홀수 출력\n",
        "\n",
        "n = int(input('숫자 입력 : '))\n",
        "if n % 2 == 0:\n",
        "    print('짝수')\n",
        "else:\n",
        "    print('홀수')"
      ],
      "metadata": {
        "colab": {
          "base_uri": "https://localhost:8080/"
        },
        "id": "s7cnNMqtNDGs",
        "outputId": "8f38f64f-a774-4bde-a2a1-e11b71398fa4"
      },
      "execution_count": 33,
      "outputs": [
        {
          "output_type": "stream",
          "name": "stdout",
          "text": [
            "숫자 입력 : 45\n",
            "홀수\n"
          ]
        }
      ]
    },
    {
      "cell_type": "code",
      "source": [
        "# 성적을 입력받아서 90점 이상이면 A, 80점 이상이면 B, 70점 이상이면 C, 60점 이상이면 D, 나머지는 F\n",
        "\n",
        "score = int(input('성적 입력 : '))\n",
        "if score >= 90:\n",
        "    print('A')\n",
        "elif score >= 80:\n",
        "    print('B')\n",
        "elif score >= 70:\n",
        "    print('C')\n",
        "elif score >= 60:\n",
        "    print('D')\n",
        "else :\n",
        "    print('F')"
      ],
      "metadata": {
        "colab": {
          "base_uri": "https://localhost:8080/"
        },
        "id": "mmZKRkx5OOCb",
        "outputId": "a23abcf4-044c-44f7-9612-cb078749d9fa"
      },
      "execution_count": 39,
      "outputs": [
        {
          "output_type": "stream",
          "name": "stdout",
          "text": [
            "성적 입력 : 100\n",
            "A\n"
          ]
        }
      ]
    },
    {
      "cell_type": "markdown",
      "source": [
        "### 반복\n",
        "for문   : 횟수 반복, for _ in range(5):  \n",
        "while문 : 조건이 성립할 때 까지 반복  "
      ],
      "metadata": {
        "id": "Z_XZTlqlXztF"
      }
    },
    {
      "cell_type": "code",
      "source": [
        "for _ in range(1000):\n",
        "  print(_, end = ' ')"
      ],
      "metadata": {
        "colab": {
          "base_uri": "https://localhost:8080/"
        },
        "id": "X-e-qrn6WVp9",
        "outputId": "7cea2535-1988-422b-86a2-5f4a492293de"
      },
      "execution_count": 65,
      "outputs": [
        {
          "output_type": "stream",
          "name": "stdout",
          "text": [
            "0 1 2 3 4 5 6 7 8 9 10 11 12 13 14 15 16 17 18 19 20 21 22 23 24 25 26 27 28 29 30 31 32 33 34 35 36 37 38 39 40 41 42 43 44 45 46 47 48 49 50 51 52 53 54 55 56 57 58 59 60 61 62 63 64 65 66 67 68 69 70 71 72 73 74 75 76 77 78 79 80 81 82 83 84 85 86 87 88 89 90 91 92 93 94 95 96 97 98 99 100 101 102 103 104 105 106 107 108 109 110 111 112 113 114 115 116 117 118 119 120 121 122 123 124 125 126 127 128 129 130 131 132 133 134 135 136 137 138 139 140 141 142 143 144 145 146 147 148 149 150 151 152 153 154 155 156 157 158 159 160 161 162 163 164 165 166 167 168 169 170 171 172 173 174 175 176 177 178 179 180 181 182 183 184 185 186 187 188 189 190 191 192 193 194 195 196 197 198 199 200 201 202 203 204 205 206 207 208 209 210 211 212 213 214 215 216 217 218 219 220 221 222 223 224 225 226 227 228 229 230 231 232 233 234 235 236 237 238 239 240 241 242 243 244 245 246 247 248 249 250 251 252 253 254 255 256 257 258 259 260 261 262 263 264 265 266 267 268 269 270 271 272 273 274 275 276 277 278 279 280 281 282 283 284 285 286 287 288 289 290 291 292 293 294 295 296 297 298 299 300 301 302 303 304 305 306 307 308 309 310 311 312 313 314 315 316 317 318 319 320 321 322 323 324 325 326 327 328 329 330 331 332 333 334 335 336 337 338 339 340 341 342 343 344 345 346 347 348 349 350 351 352 353 354 355 356 357 358 359 360 361 362 363 364 365 366 367 368 369 370 371 372 373 374 375 376 377 378 379 380 381 382 383 384 385 386 387 388 389 390 391 392 393 394 395 396 397 398 399 400 401 402 403 404 405 406 407 408 409 410 411 412 413 414 415 416 417 418 419 420 421 422 423 424 425 426 427 428 429 430 431 432 433 434 435 436 437 438 439 440 441 442 443 444 445 446 447 448 449 450 451 452 453 454 455 456 457 458 459 460 461 462 463 464 465 466 467 468 469 470 471 472 473 474 475 476 477 478 479 480 481 482 483 484 485 486 487 488 489 490 491 492 493 494 495 496 497 498 499 500 501 502 503 504 505 506 507 508 509 510 511 512 513 514 515 516 517 518 519 520 521 522 523 524 525 526 527 528 529 530 531 532 533 534 535 536 537 538 539 540 541 542 543 544 545 546 547 548 549 550 551 552 553 554 555 556 557 558 559 560 561 562 563 564 565 566 567 568 569 570 571 572 573 574 575 576 577 578 579 580 581 582 583 584 585 586 587 588 589 590 591 592 593 594 595 596 597 598 599 600 601 602 603 604 605 606 607 608 609 610 611 612 613 614 615 616 617 618 619 620 621 622 623 624 625 626 627 628 629 630 631 632 633 634 635 636 637 638 639 640 641 642 643 644 645 646 647 648 649 650 651 652 653 654 655 656 657 658 659 660 661 662 663 664 665 666 667 668 669 670 671 672 673 674 675 676 677 678 679 680 681 682 683 684 685 686 687 688 689 690 691 692 693 694 695 696 697 698 699 700 701 702 703 704 705 706 707 708 709 710 711 712 713 714 715 716 717 718 719 720 721 722 723 724 725 726 727 728 729 730 731 732 733 734 735 736 737 738 739 740 741 742 743 744 745 746 747 748 749 750 751 752 753 754 755 756 757 758 759 760 761 762 763 764 765 766 767 768 769 770 771 772 773 774 775 776 777 778 779 780 781 782 783 784 785 786 787 788 789 790 791 792 793 794 795 796 797 798 799 800 801 802 803 804 805 806 807 808 809 810 811 812 813 814 815 816 817 818 819 820 821 822 823 824 825 826 827 828 829 830 831 832 833 834 835 836 837 838 839 840 841 842 843 844 845 846 847 848 849 850 851 852 853 854 855 856 857 858 859 860 861 862 863 864 865 866 867 868 869 870 871 872 873 874 875 876 877 878 879 880 881 882 883 884 885 886 887 888 889 890 891 892 893 894 895 896 897 898 899 900 901 902 903 904 905 906 907 908 909 910 911 912 913 914 915 916 917 918 919 920 921 922 923 924 925 926 927 928 929 930 931 932 933 934 935 936 937 938 939 940 941 942 943 944 945 946 947 948 949 950 951 952 953 954 955 956 957 958 959 960 961 962 963 964 965 966 967 968 969 970 971 972 973 974 975 976 977 978 979 980 981 982 983 984 985 986 987 988 989 990 991 992 993 994 995 996 997 998 999 "
          ]
        }
      ]
    },
    {
      "cell_type": "code",
      "source": [
        "# 1부터 50까지 짝수 출력\n",
        "for _ in range(2, 51, 2):\n",
        "  print(_, end = ' ')\n",
        "\n",
        "print('\\n')\n",
        "for i in 'GAME OVER':\n",
        "  print(i, end = ' ')\n"
      ],
      "metadata": {
        "colab": {
          "base_uri": "https://localhost:8080/"
        },
        "id": "d5wJzM17YSFo",
        "outputId": "7bbf3e30-1397-4062-e8d0-76f0b8375767"
      },
      "execution_count": 67,
      "outputs": [
        {
          "output_type": "stream",
          "name": "stdout",
          "text": [
            "2 4 6 8 10 12 14 16 18 20 22 24 26 28 30 32 34 36 38 40 42 44 46 48 50 \n",
            "\n",
            "G A M E   O V E R "
          ]
        }
      ]
    },
    {
      "cell_type": "code",
      "source": [
        "for item in [1, 23, 456, 7890]:\n",
        "  print('값', item)"
      ],
      "metadata": {
        "colab": {
          "base_uri": "https://localhost:8080/"
        },
        "id": "aV_hQ4-JYecW",
        "outputId": "28debc12-dea0-47d5-84a7-0c9a5a8a38c0"
      },
      "execution_count": 55,
      "outputs": [
        {
          "output_type": "stream",
          "name": "stdout",
          "text": [
            "값 1\n",
            "값 23\n",
            "값 456\n",
            "값 7890\n"
          ]
        }
      ]
    },
    {
      "cell_type": "code",
      "source": [
        "# 딕셔너리\n",
        "stu = {'아리스' : 'Key', '모모이' : '미도리'}\n",
        "\n",
        "for _ in stu:\n",
        "  print('Player 1', _)\n",
        "  print('Player 2', stu[_])"
      ],
      "metadata": {
        "colab": {
          "base_uri": "https://localhost:8080/"
        },
        "id": "ONOOwzM6ZPdP",
        "outputId": "dd5da993-36ff-496e-db4c-1227f0a87803"
      },
      "execution_count": 69,
      "outputs": [
        {
          "output_type": "stream",
          "name": "stdout",
          "text": [
            "Player 1 아리스\n",
            "Player 2 Key\n",
            "Player 1 모모이\n",
            "Player 2 미도리\n"
          ]
        }
      ]
    },
    {
      "cell_type": "code",
      "source": [
        "# 구구단\n",
        "for i in range(2, 10):\n",
        "  print(i, '단')\n",
        "  for j in range(1, 10):\n",
        "    print(i, 'x', j, '=', i * j, end = '   ')\n",
        "  print('\\n')"
      ],
      "metadata": {
        "colab": {
          "base_uri": "https://localhost:8080/"
        },
        "id": "F68DcFm5ZxaX",
        "outputId": "705be843-4a02-416e-f42a-1addb0916166"
      },
      "execution_count": 86,
      "outputs": [
        {
          "output_type": "stream",
          "name": "stdout",
          "text": [
            "2 단\n",
            "2 x 1 = 2   2 x 2 = 4   2 x 3 = 6   2 x 4 = 8   2 x 5 = 10   2 x 6 = 12   2 x 7 = 14   2 x 8 = 16   2 x 9 = 18   \n",
            "\n",
            "3 단\n",
            "3 x 1 = 3   3 x 2 = 6   3 x 3 = 9   3 x 4 = 12   3 x 5 = 15   3 x 6 = 18   3 x 7 = 21   3 x 8 = 24   3 x 9 = 27   \n",
            "\n",
            "4 단\n",
            "4 x 1 = 4   4 x 2 = 8   4 x 3 = 12   4 x 4 = 16   4 x 5 = 20   4 x 6 = 24   4 x 7 = 28   4 x 8 = 32   4 x 9 = 36   \n",
            "\n",
            "5 단\n",
            "5 x 1 = 5   5 x 2 = 10   5 x 3 = 15   5 x 4 = 20   5 x 5 = 25   5 x 6 = 30   5 x 7 = 35   5 x 8 = 40   5 x 9 = 45   \n",
            "\n",
            "6 단\n",
            "6 x 1 = 6   6 x 2 = 12   6 x 3 = 18   6 x 4 = 24   6 x 5 = 30   6 x 6 = 36   6 x 7 = 42   6 x 8 = 48   6 x 9 = 54   \n",
            "\n",
            "7 단\n",
            "7 x 1 = 7   7 x 2 = 14   7 x 3 = 21   7 x 4 = 28   7 x 5 = 35   7 x 6 = 42   7 x 7 = 49   7 x 8 = 56   7 x 9 = 63   \n",
            "\n",
            "8 단\n",
            "8 x 1 = 8   8 x 2 = 16   8 x 3 = 24   8 x 4 = 32   8 x 5 = 40   8 x 6 = 48   8 x 7 = 56   8 x 8 = 64   8 x 9 = 72   \n",
            "\n",
            "9 단\n",
            "9 x 1 = 9   9 x 2 = 18   9 x 3 = 27   9 x 4 = 36   9 x 5 = 45   9 x 6 = 54   9 x 7 = 63   9 x 8 = 72   9 x 9 = 81   \n",
            "\n"
          ]
        }
      ]
    },
    {
      "cell_type": "markdown",
      "source": [
        "### 문자열"
      ],
      "metadata": {
        "id": "rV32OLMtg6aW"
      }
    },
    {
      "cell_type": "code",
      "source": [
        "word = '동양 미래대 '\n",
        "hi = '안녕하세요 '\n",
        "print(word + hi)\n",
        "print(word * 3)"
      ],
      "metadata": {
        "colab": {
          "base_uri": "https://localhost:8080/"
        },
        "id": "3NIJ4niYcCdI",
        "outputId": "3c487a0b-a8c5-46bb-f005-bfe4d16be145"
      },
      "execution_count": 92,
      "outputs": [
        {
          "output_type": "stream",
          "name": "stdout",
          "text": [
            "동양 미래대 안녕하세요 \n",
            "동양 미래대 동양 미래대 동양 미래대 \n"
          ]
        }
      ]
    },
    {
      "cell_type": "code",
      "source": [
        "word[0:2]"
      ],
      "metadata": {
        "colab": {
          "base_uri": "https://localhost:8080/",
          "height": 35
        },
        "id": "yVrFwCH2hEBo",
        "outputId": "b49bc505-f5fa-4e9a-8120-78bb4bca6038"
      },
      "execution_count": 93,
      "outputs": [
        {
          "output_type": "execute_result",
          "data": {
            "text/plain": [
              "'동양'"
            ],
            "application/vnd.google.colaboratory.intrinsic+json": {
              "type": "string"
            }
          },
          "metadata": {},
          "execution_count": 93
        }
      ]
    },
    {
      "cell_type": "code",
      "source": [
        "hi[-1::-1]"
      ],
      "metadata": {
        "colab": {
          "base_uri": "https://localhost:8080/",
          "height": 35
        },
        "id": "g8yDwkH9hcFY",
        "outputId": "0991544f-1065-4491-90d9-d73619a7a67c"
      },
      "execution_count": 95,
      "outputs": [
        {
          "output_type": "execute_result",
          "data": {
            "text/plain": [
              "' 요세하녕안'"
            ],
            "application/vnd.google.colaboratory.intrinsic+json": {
              "type": "string"
            }
          },
          "metadata": {},
          "execution_count": 95
        }
      ]
    },
    {
      "cell_type": "markdown",
      "source": [
        "### 리스트(list) 메소드\n",
        "append()     : 맨 뒤에 추가  \n",
        "extend(a)    : 리스트 a를 추가  \n",
        "count()      : 항목 개수 반환  \n",
        "index()      : 리스트에서 항목 찾아 반환  \n",
        "insert(a, b) : a 위치에 b 삽입  \n",
        "pop()        : 마지막 항목 반환 후 삭제  \n",
        "remove()     : 항목 삭제  \n",
        "reverse()    : 리스트 항목 순서 뒤집기  \n",
        "sort()       : 정렬  "
      ],
      "metadata": {
        "id": "iaBqf1gdiG7m"
      }
    },
    {
      "cell_type": "code",
      "source": [
        "def find_min_max(A):            # 최댓값, 최솟값 동시에 찾음\n",
        "  min = A[0]\n",
        "  max = A[0]\n",
        "\n",
        "  for i in range(1, len(A)):\n",
        "    if max < A[i] : max = A[i]  # 최댓값 갱신\n",
        "    if min > A[i] : min = A[i]  # 최솟값 갱신\n",
        "  return min, max\n",
        "\n",
        "data = [5, 3, 8, 4, 9, 1, 6, 2, 7]\n",
        "x, y = find_min_max(data)\n",
        "print(\"(min, max) = \", (x, y))"
      ],
      "metadata": {
        "colab": {
          "base_uri": "https://localhost:8080/"
        },
        "id": "vXkHvIJwhe3X",
        "outputId": "f2e8a1cd-fed2-46d6-8ed1-c7de42f323b6"
      },
      "execution_count": 99,
      "outputs": [
        {
          "output_type": "stream",
          "name": "stdout",
          "text": [
            "(min, max) =  (1, 9)\n"
          ]
        }
      ]
    },
    {
      "cell_type": "code",
      "source": [
        "def hap(a, b = 2, c = 3):   # 디폴트 인수\n",
        "  sum = a + b + c\n",
        "  return sum\n",
        "\n",
        "hap(1)"
      ],
      "metadata": {
        "colab": {
          "base_uri": "https://localhost:8080/"
        },
        "id": "d8Nns6BtlyZQ",
        "outputId": "429986da-ff95-4885-83bf-6322084fd7ea"
      },
      "execution_count": 105,
      "outputs": [
        {
          "output_type": "execute_result",
          "data": {
            "text/plain": [
              "6"
            ]
          },
          "metadata": {},
          "execution_count": 105
        }
      ]
    }
  ]
}