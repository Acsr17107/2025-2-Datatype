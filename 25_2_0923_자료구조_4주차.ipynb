{
  "nbformat": 4,
  "nbformat_minor": 0,
  "metadata": {
    "colab": {
      "provenance": [],
      "authorship_tag": "ABX9TyNA6CDVqSHwvlN4Ie/O/ihq",
      "include_colab_link": true
    },
    "kernelspec": {
      "name": "python3",
      "display_name": "Python 3"
    },
    "language_info": {
      "name": "python"
    }
  },
  "cells": [
    {
      "cell_type": "markdown",
      "metadata": {
        "id": "view-in-github",
        "colab_type": "text"
      },
      "source": [
        "<a href=\"https://colab.research.google.com/github/LunaTic-Neon/2025-2-Datatype/blob/main/25_2_0923_%EC%9E%90%EB%A3%8C%EA%B5%AC%EC%A1%B0_4%EC%A3%BC%EC%B0%A8.ipynb\" target=\"_parent\"><img src=\"https://colab.research.google.com/assets/colab-badge.svg\" alt=\"Open In Colab\"/></a>"
      ]
    },
    {
      "cell_type": "markdown",
      "source": [
        "두 수를 입력 받아서 두 수의 합을 출력하는 함수 정의, 호출"
      ],
      "metadata": {
        "id": "kxuVBc6FH_xV"
      }
    },
    {
      "cell_type": "code",
      "execution_count": null,
      "metadata": {
        "colab": {
          "base_uri": "https://localhost:8080/"
        },
        "id": "pysn4F0iGfsU",
        "outputId": "2f15f3e3-70d9-4280-8f7b-7f9a1f6e959b"
      },
      "outputs": [
        {
          "output_type": "execute_result",
          "data": {
            "text/plain": [
              "182"
            ]
          },
          "metadata": {},
          "execution_count": 7
        }
      ],
      "source": [
        "def hap(a, b):\n",
        "  sum = a + b\n",
        "  return sum\n",
        "\n",
        "hap(17, 165)"
      ]
    },
    {
      "cell_type": "code",
      "source": [
        "def cul(a, b, c):\n",
        "  result = 0\n",
        "\n",
        "  if a == \"+\":\n",
        "    result = b + c\n",
        "\n",
        "  elif a == \"-\":\n",
        "    result = b - c\n",
        "\n",
        "  elif a == \"*\":\n",
        "    result = b * c\n",
        "\n",
        "  elif a == \"/\":\n",
        "    result = b / c\n",
        "  return result\n",
        "\n",
        "a = input(\"연산 기호 입력(+, -, *, /) : \")\n",
        "b = int(input(\"숫자 입력 1 : \"))\n",
        "c = int(input(\"숫자 입력 2 : \"))\n",
        "\n",
        "print(\"연산 결과 : \", cul(a, b, c))"
      ],
      "metadata": {
        "colab": {
          "base_uri": "https://localhost:8080/"
        },
        "id": "aB2SKNMqGneV",
        "outputId": "f5d9a432-7ee7-438a-84bc-f9458e0f365c"
      },
      "execution_count": null,
      "outputs": [
        {
          "output_type": "stream",
          "name": "stdout",
          "text": [
            "연산 기호 입력(+, -, *, /) : *\n",
            "숫자 입력 1 : 17\n",
            "숫자 입력 2 : 7\n",
            "연산 결과 :  119\n"
          ]
        }
      ]
    },
    {
      "cell_type": "code",
      "source": [
        "import random\n",
        "\n",
        "def lot():\n",
        "  lot_list = list(range(1, 46))\n",
        "  n = random.sample(lot_list, 6)\n",
        "  n.sort()\n",
        "  return n\n",
        "\n",
        "print(\"로또 번호 :\", lot())"
      ],
      "metadata": {
        "colab": {
          "base_uri": "https://localhost:8080/"
        },
        "id": "eEBTysTROD1m",
        "outputId": "5b55c483-693e-4634-eb53-465c0e112cf9"
      },
      "execution_count": null,
      "outputs": [
        {
          "output_type": "stream",
          "name": "stdout",
          "text": [
            "로또 번호 : [2, 9, 15, 17, 29, 41]\n"
          ]
        }
      ]
    },
    {
      "cell_type": "code",
      "source": [
        "def pas():\n",
        "  pwd = input(\"패스워드 생성(8글자 이상, 영문과 숫자로 구성) : \")\n",
        "\n",
        "  if len(pwd) >= 8 and pwd.isalnum():\n",
        "    print(\"비밀번호 생성 완료\")\n",
        "  else:\n",
        "    print(\"비밀번호 생성 실패\")\n",
        "\n",
        "pas()"
      ],
      "metadata": {
        "colab": {
          "base_uri": "https://localhost:8080/"
        },
        "id": "c3DKlLYNO-aG",
        "outputId": "3fb15b9b-aa1c-40f2-a130-66657e6bb735"
      },
      "execution_count": null,
      "outputs": [
        {
          "output_type": "stream",
          "name": "stdout",
          "text": [
            "패스워드 생성(8글자 이상, 영문과 숫자로 구성) : sadadsdsa\n",
            "비밀번호 생성 완료\n"
          ]
        }
      ]
    },
    {
      "cell_type": "markdown",
      "source": [
        "리스트"
      ],
      "metadata": {
        "id": "j4lORTPKcSYG"
      }
    },
    {
      "cell_type": "code",
      "source": [
        "a = []\n",
        "b = [1, 2, 3, 4, 5]\n",
        "c = [\"hi\", \"hello\"]\n",
        "\n",
        "print(\"b 리스트 길이 :\", len(b))\n",
        "print(\"c의 두 번째 값 :\", c[1])\n",
        "print(\"b =\", b)"
      ],
      "metadata": {
        "colab": {
          "base_uri": "https://localhost:8080/"
        },
        "id": "PI5be85-XNlg",
        "outputId": "de1c5c2f-f65a-4864-f4d8-3cdbbba0a657"
      },
      "execution_count": null,
      "outputs": [
        {
          "output_type": "stream",
          "name": "stdout",
          "text": [
            "b 리스트 길이 : 5\n",
            "c의 두 번째 값 : hello\n",
            "b = [1, 2, 3, 4, 5]\n"
          ]
        }
      ]
    },
    {
      "cell_type": "code",
      "source": [
        "b = [1, 2, 3, 4, 5]\n",
        "hap = 0\n",
        "\n",
        "for i in range(len(b)):\n",
        "  hap += b[i]\n",
        "print(\"b 리스트 합 :\", hap)"
      ],
      "metadata": {
        "colab": {
          "base_uri": "https://localhost:8080/"
        },
        "id": "pNYhkHozczSP",
        "outputId": "1e1d0316-1493-417b-f1b4-131f9372b584"
      },
      "execution_count": null,
      "outputs": [
        {
          "output_type": "stream",
          "name": "stdout",
          "text": [
            "b 리스트 합 : 15\n"
          ]
        }
      ]
    },
    {
      "cell_type": "code",
      "source": [
        "d = [5] * 10\n",
        "print(d)"
      ],
      "metadata": {
        "colab": {
          "base_uri": "https://localhost:8080/"
        },
        "id": "xIHyZBTVeAEu",
        "outputId": "591426ae-9b25-4835-dd67-569d80334828"
      },
      "execution_count": null,
      "outputs": [
        {
          "output_type": "stream",
          "name": "stdout",
          "text": [
            "[5, 5, 5, 5, 5, 5, 5, 5, 5, 5]\n"
          ]
        }
      ]
    },
    {
      "cell_type": "code",
      "source": [
        "import random\n",
        "e = [random.randint(0, 10) for i in range(10)]\n",
        "print(e)"
      ],
      "metadata": {
        "colab": {
          "base_uri": "https://localhost:8080/"
        },
        "id": "WiViyfkYe-a_",
        "outputId": "366ed570-2258-4b38-b0fb-72384f1ea12c"
      },
      "execution_count": null,
      "outputs": [
        {
          "output_type": "stream",
          "name": "stdout",
          "text": [
            "[9, 1, 5, 3, 8, 2, 7, 4, 9, 5]\n"
          ]
        }
      ]
    },
    {
      "cell_type": "code",
      "source": [
        "a = [2, 3, 4, 5]\n",
        "a.append(6)\n",
        "a.append(7)\n",
        "a"
      ],
      "metadata": {
        "colab": {
          "base_uri": "https://localhost:8080/"
        },
        "id": "AgMR5JS3fPZP",
        "outputId": "f16b9146-089f-4e88-f704-08213d6e04b0"
      },
      "execution_count": null,
      "outputs": [
        {
          "output_type": "execute_result",
          "data": {
            "text/plain": [
              "[2, 3, 4, 5, 6, 7]"
            ]
          },
          "metadata": {},
          "execution_count": 124
        }
      ]
    },
    {
      "cell_type": "code",
      "source": [
        "a.pop(2)\n",
        "a"
      ],
      "metadata": {
        "colab": {
          "base_uri": "https://localhost:8080/"
        },
        "id": "6Lb8E9SkjkmH",
        "outputId": "a0ff7ec4-8098-4737-f35b-72a9cbb0bc75"
      },
      "execution_count": null,
      "outputs": [
        {
          "output_type": "execute_result",
          "data": {
            "text/plain": [
              "[2, 3, 5, 6, 7]"
            ]
          },
          "metadata": {},
          "execution_count": 125
        }
      ]
    },
    {
      "cell_type": "code",
      "source": [
        "a.insert(0, 1)\n",
        "a"
      ],
      "metadata": {
        "colab": {
          "base_uri": "https://localhost:8080/"
        },
        "id": "guT2YR7Pju_n",
        "outputId": "da84bcee-8195-4ccf-920e-920970894393"
      },
      "execution_count": null,
      "outputs": [
        {
          "output_type": "execute_result",
          "data": {
            "text/plain": [
              "[1, 2, 3, 5, 6, 7]"
            ]
          },
          "metadata": {},
          "execution_count": 126
        }
      ]
    },
    {
      "cell_type": "code",
      "source": [
        "b = [6, 7, 8, 9]\n",
        "\n",
        "# b = [4, 5, 6, 7]\n",
        "b.pop()\n",
        "b.pop()\n",
        "b.insert(0, 4)\n",
        "b.insert(1, 5)\n",
        "b"
      ],
      "metadata": {
        "colab": {
          "base_uri": "https://localhost:8080/"
        },
        "id": "MgctOlNHj1wA",
        "outputId": "d2274d1e-ceb0-40ce-b416-7c6c6658d65e"
      },
      "execution_count": null,
      "outputs": [
        {
          "output_type": "execute_result",
          "data": {
            "text/plain": [
              "[4, 5, 6, 7]"
            ]
          },
          "metadata": {},
          "execution_count": 131
        }
      ]
    }
  ]
}