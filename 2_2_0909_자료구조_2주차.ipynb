{
  "nbformat": 4,
  "nbformat_minor": 0,
  "metadata": {
    "colab": {
      "provenance": [],
      "authorship_tag": "ABX9TyNbT5fW95PwAYmiamv5n+vE",
      "include_colab_link": true
    },
    "kernelspec": {
      "name": "python3",
      "display_name": "Python 3"
    },
    "language_info": {
      "name": "python"
    }
  },
  "cells": [
    {
      "cell_type": "markdown",
      "metadata": {
        "id": "view-in-github",
        "colab_type": "text"
      },
      "source": [
        "<a href=\"https://colab.research.google.com/github/Acsr17107/2025-2-Datatype/blob/main/2_2_0909_%EC%9E%90%EB%A3%8C%EA%B5%AC%EC%A1%B0_2%EC%A3%BC%EC%B0%A8.ipynb\" target=\"_parent\"><img src=\"https://colab.research.google.com/assets/colab-badge.svg\" alt=\"Open In Colab\"/></a>"
      ]
    },
    {
      "cell_type": "code",
      "execution_count": null,
      "metadata": {
        "colab": {
          "base_uri": "https://localhost:8080/"
        },
        "id": "KAQ6nTavBUlR",
        "outputId": "70c04e12-4fa2-4e3b-8f77-93a5202c2b0e"
      },
      "outputs": [
        {
          "output_type": "stream",
          "name": "stdout",
          "text": [
            "가방 속 물건 :  ['휴대폰', '배터리', '단어장']\n",
            "가방 속 물건의 수 :  3\n"
          ]
        },
        {
          "output_type": "execute_result",
          "data": {
            "text/plain": [
              "True"
            ]
          },
          "metadata": {},
          "execution_count": 6
        }
      ],
      "source": [
        "# 함수 구현\n",
        "def contains(bag, e):\n",
        "  return e in bag\n",
        "\n",
        "def insert(bag, e):\n",
        "  bag.append(e)\n",
        "\n",
        "def remove(bag, e):\n",
        "  bag.remove(e)\n",
        "\n",
        "def count(bag):\n",
        "  return len(bag)\n",
        "\n",
        "# 빈 가방\n",
        "mybag = []\n",
        "\n",
        "# 삽입\n",
        "insert(mybag, \"휴대폰\")\n",
        "insert(mybag, \"배터리\")\n",
        "insert(mybag, \"펜\")\n",
        "insert(mybag, \"단어장\")\n",
        "\n",
        "# 제거\n",
        "remove(mybag, \"펜\")\n",
        "\n",
        "# 물건 확인\n",
        "print('가방 속 물건 : ', mybag)\n",
        "\n",
        "# 개수 확인\n",
        "print('가방 속 물건의 수 : ', count(mybag))\n",
        "\n",
        "# 존재 확인\n",
        "contains(mybag, \"배터리\")\n"
      ]
    },
    {
      "cell_type": "code",
      "source": [
        "import time\n",
        "\n",
        "#  빈 가방\n",
        "mybag = []\n",
        "\n",
        "# 시작 시간 저장\n",
        "start = time.time()\n",
        "\n",
        "# 삽입\n",
        "insert(mybag, \"휴대폰\")\n",
        "insert(mybag, \"배터리\")\n",
        "insert(mybag, \"펜\")\n",
        "insert(mybag, \"단어장\")\n",
        "\n",
        "# 제거\n",
        "remove(mybag, \"펜\")\n",
        "\n",
        "# 물건 확인\n",
        "print('가방 속 물건 : ', mybag)\n",
        "\n",
        "# 개수 확인\n",
        "print('가방 속 물건의 수 : ', count(mybag))\n",
        "\n",
        "# 끝나는 시간\n",
        "end = time.time()\n",
        "\n",
        "# 끝나는 시간 - 시작 시간 = 실행 시간\n",
        "print(\"실행 시간 = \", end - start)\n"
      ],
      "metadata": {
        "colab": {
          "base_uri": "https://localhost:8080/"
        },
        "id": "lChvu_SoBkT_",
        "outputId": "1c6b04e8-e799-4746-beb8-efe4c34cff0c"
      },
      "execution_count": null,
      "outputs": [
        {
          "output_type": "stream",
          "name": "stdout",
          "text": [
            "가방 속 물건 :  ['휴대폰', '배터리', '단어장']\n",
            "가방 속 물건의 수 :  3\n",
            "실행 시간 =  0.000308990478515625\n"
          ]
        }
      ]
    },
    {
      "cell_type": "code",
      "source": [
        "import random\n",
        "import time\n",
        "\n",
        "# 최댓값 구하기 함수\n",
        "def find_max(A):\n",
        "    max_val = A[0]          # 첫 원소를 최댓값 후보로 초기화\n",
        "    for item in A:          # 모든 원소를 순회하며\n",
        "        if item > max_val:  # 더 큰 값이 있으면 갱신\n",
        "            max_val = item\n",
        "    return max_val\n",
        "\n",
        "# 0부터 10000 사이 정수 난수 10000개 생성\n",
        "array = [random.randint(0, 10000) for _ in range(10000)]\n",
        "\n",
        "# 실행 시간 측정 시작\n",
        "start = time.time()\n",
        "\n",
        "# 최댓값 찾기\n",
        "max_val = find_max(array)\n",
        "\n",
        "# 실행 시간 측정 끝\n",
        "end = time.time()\n",
        "\n",
        "# 결과 출력\n",
        "print(\"최댓값 =\", max_val)\n",
        "print(\"실행 시간 =\", end - start, \"초\")\n"
      ],
      "metadata": {
        "colab": {
          "base_uri": "https://localhost:8080/"
        },
        "id": "yVyNx8QcBkNO",
        "outputId": "eb86e6ce-313d-4292-b4b0-c2dc0327f530"
      },
      "execution_count": null,
      "outputs": [
        {
          "output_type": "stream",
          "name": "stdout",
          "text": [
            "최댓값 = 10000\n",
            "실행 시간 = 0.0002951622009277344 초\n"
          ]
        }
      ]
    },
    {
      "cell_type": "code",
      "source": [
        "def search(A, key):\n",
        "    n = len(A)            # 배열 A의 길이를 n에 저장\n",
        "    for i in range(n):    # 0번부터 n-1번까지 순차적으로 탐색\n",
        "        if A[i] == key:   # 현재 원소가 key 값과 같으면\n",
        "            return i      # 해당 인덱스를 반환\n",
        "    return -1             # 찾지 못하면 -1 반환\n",
        "\n",
        "A = [3, 4, 5, 6, 7, 8]    # 탐색 대상 배열\n",
        "search(A, 7)              # 배열 A에서 값 7을 탐색 (결과: 4)\n"
      ],
      "metadata": {
        "colab": {
          "base_uri": "https://localhost:8080/"
        },
        "id": "horofja4BkCW",
        "outputId": "70446316-fcc5-419d-e584-e09b9a36b311"
      },
      "execution_count": null,
      "outputs": [
        {
          "output_type": "execute_result",
          "data": {
            "text/plain": [
              "4"
            ]
          },
          "metadata": {},
          "execution_count": 27
        }
      ]
    },
    {
      "cell_type": "code",
      "source": [
        "def factorial(n):\n",
        "  if n == 1:\n",
        "    return 1\n",
        "  else:\n",
        "    return n * factorial(n - 1)\n",
        "\n",
        "factorial(6)"
      ],
      "metadata": {
        "colab": {
          "base_uri": "https://localhost:8080/"
        },
        "id": "lghlDdYJMa5x",
        "outputId": "a2b75149-6880-4253-89b8-14352d078dda"
      },
      "execution_count": null,
      "outputs": [
        {
          "output_type": "execute_result",
          "data": {
            "text/plain": [
              "720"
            ]
          },
          "metadata": {},
          "execution_count": 36
        }
      ]
    },
    {
      "cell_type": "code",
      "source": [],
      "metadata": {
        "id": "iYRVhDi8fgKW"
      },
      "execution_count": null,
      "outputs": []
    }
  ]
}